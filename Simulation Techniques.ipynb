{
 "cells": [
  {
   "cell_type": "code",
   "execution_count": 38,
   "metadata": {},
   "outputs": [],
   "source": [
    "import numpy as np\n",
    "impor math\n",
    "import random\n",
    "from scipy.stats import norm\n",
    "random.seed(10)"
   ]
  },
  {
   "cell_type": "code",
   "execution_count": 53,
   "metadata": {},
   "outputs": [],
   "source": [
    "def d1(S,K,T,r,sigma):\n",
    "    return(math.log(S/K)+(r+sigma**2/2.)*T)/(sigma*math.sqrt(T))\n",
    "def d2(S,K,T,r,sigma):\n",
    "    return d1(S,K,T,r,sigma)-sigma*math.sqrt(T)\n",
    "def bs_call(S,K,T,r,sigma):\n",
    "    return S*norm.cdf(d1(S,K,T,r,sigma))-K*math.exp(-r*T)*norm.cdf(d2(S,K,T,r,sigma))"
   ]
  },
  {
   "cell_type": "code",
   "execution_count": 55,
   "metadata": {},
   "outputs": [
    {
     "data": {
      "text/plain": [
       "1.7919270785071006"
      ]
     },
     "execution_count": 55,
     "metadata": {},
     "output_type": "execute_result"
    }
   ],
   "source": [
    "bs_call(10, 12, 1, 0.23, 0.4)"
   ]
  },
  {
   "cell_type": "markdown",
   "metadata": {},
   "source": [
    "<h2> Stratification </h2>\n",
    "<ol>\n",
    "    <li>Partition (-inf, inf) into B bins </li>\n",
    "    <li> Set $V_{i} = \\frac{1}{B}(U_{i} + (i-1))$ , i = 0...B and generate desired number of random samples $N_{B}$ of V in the i th bin </li>\n",
    "    <li>Apply $\\Phi^{-1}(V_{i})$ to get the desired normal random number from the bin and calculate $C_{i}$  from each bin</li>\n",
    "    <li> Average the $\\overline{C}_{i}$ over the number of bins to get overall estimate $\\overline{C}$</li>\n",
    "    <li> Calculate the standard error in previous case </li>\n",
    "</ol>"
   ]
  },
  {
   "cell_type": "code",
   "execution_count": 51,
   "metadata": {},
   "outputs": [],
   "source": [
    "n = 10000 #total sample size\n",
    "B = 100 #number of bins\n",
    "NB = n//B #number of sample per bucket\n",
    "\n",
    "S0, K, mu, sigma = 10, 12, 0.23, 0.4\n",
    "nu = mu-sigma**2/2\n",
    "T = 1\n",
    "\n",
    "ST = np.zeros(NB) #generate \n",
    "Ci = np.zeros(NB)\n",
    "Cbar = 0\n",
    "varr = 0 \n",
    "for i in np.arange(0, B):#loop from 0 to B-1\n",
    "    u = np.random.uniform(size=NB)\n",
    "    z = norm.ppf((u+i)/B)\n",
    "    for j in np.arange(0, NB) :\n",
    "        ST[j] = S0*math.exp(nu*T+sigma*math.sqrt(T)*z[j])\n",
    "        Ci[j] = math.exp(-mu*T) *max(ST[j]-K, 0)\n",
    "    Cbar = Cbar + np.average(Ci)\n",
    "    varr = varr + np.var(Ci)\n",
    "\n",
    "C = Cbar/B\n",
    "SE = math.sqrt(varr/NB)/B"
   ]
  },
  {
   "cell_type": "code",
   "execution_count": 52,
   "metadata": {},
   "outputs": [
    {
     "name": "stdout",
     "output_type": "stream",
     "text": [
      "1.793180141695758 0.0040870948814573\n"
     ]
    }
   ],
   "source": [
    "print(C, SE)"
   ]
  },
  {
   "cell_type": "markdown",
   "metadata": {},
   "source": [
    "Reduce waste when S < K for call Option\n",
    "\n",
    "$S_{T} = S_{0} * e^{[r-\\sigma^{2}]}$ \n",
    "\n",
    "$S_{T} < K$ "
   ]
  },
  {
   "cell_type": "code",
   "execution_count": 60,
   "metadata": {},
   "outputs": [],
   "source": [
    "n = 10000 #total sample size\n",
    "B = 100 #number of bins\n",
    "NB = n//B #number of sample per bucket\n",
    "\n",
    "S0, K, mu, sigma = 10, 12, 0.23, 0.4\n",
    "nu = mu-sigma**2/2\n",
    "T = 1\n",
    "\n",
    "ST = np.zeros(NB) #generate \n",
    "Ci = np.zeros(NB)\n",
    "Cbar = 0\n",
    "varr = 0 \n",
    "L = (math.log(K/S0)-(mu-sigma**2/2)*T)/(sigma*T)\n",
    "\n",
    "for i in np.arange(0, B):#loop from 0 to B-1\n",
    "    u = np.random.uniform(size=NB)\n",
    "    v = (u+i)/B\n",
    "    z = norm.ppf(v*(1-norm.cdf(L))+norm.cdf(L))\n",
    "    for j in np.arange(0, NB) :\n",
    "        ST[j] = S0*math.exp(nu*T+sigma*math.sqrt(T)*z[j])\n",
    "        Ci[j] = math.exp(-mu*T) *max(ST[j]-K, 0)\n",
    "    Cbar = Cbar + np.average(Ci)\n",
    "    varr = varr + np.var(Ci)"
   ]
  },
  {
   "cell_type": "code",
   "execution_count": 59,
   "metadata": {},
   "outputs": [
    {
     "name": "stdout",
     "output_type": "stream",
     "text": [
      "1.793180141695758 0.0040870948814573\n"
     ]
    }
   ],
   "source": [
    "print(C, SE)"
   ]
  },
  {
   "cell_type": "markdown",
   "metadata": {},
   "source": [
    "<h2> Control Variable </h2>"
   ]
  },
  {
   "cell_type": "code",
   "execution_count": null,
   "metadata": {},
   "outputs": [],
   "source": []
  }
 ],
 "metadata": {
  "kernelspec": {
   "display_name": "Python 3",
   "language": "python",
   "name": "python3"
  },
  "language_info": {
   "codemirror_mode": {
    "name": "ipython",
    "version": 3
   },
   "file_extension": ".py",
   "mimetype": "text/x-python",
   "name": "python",
   "nbconvert_exporter": "python",
   "pygments_lexer": "ipython3",
   "version": "3.7.6"
  }
 },
 "nbformat": 4,
 "nbformat_minor": 4
}
